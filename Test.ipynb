{
 "cells": [
  {
   "cell_type": "markdown",
   "metadata": {},
   "source": [
    "# Markov Chain Models in Neo4j with Random Walks\n",
    "\n",
    "This notebook implements various random walk models using Markov Chains in Neo4j."
   ]
  },
  {
   "cell_type": "code",
   "execution_count": 37,
   "metadata": {},
   "outputs": [],
   "source": [
    "from py2neo import Graph\n",
    "import numpy as np\n",
    "import random\n",
    "\n",
    "# Connect to Neo4j\n",
    "graph = Graph(\"bolt://localhost:7687\", auth=(\"neo4j\", \"password\"))\n"
   ]
  },
  {
   "cell_type": "markdown",
   "metadata": {},
   "source": [
    "## Function to Create Markov Chain in Neo4j"
   ]
  },
  {
   "cell_type": "code",
   "execution_count": 38,
   "metadata": {},
   "outputs": [],
   "source": [
    "def create_markov_chain(graph, transition_matrix):\n",
    "    \"\"\"\n",
    "    Creates a Markov Chain in Neo4j from a transition matrix.\n",
    "    \"\"\"\n",
    "    N = len(transition_matrix)\n",
    "    \n",
    "    # Clear previous data\n",
    "    graph.run(\"MATCH (n) DETACH DELETE n\")\n",
    "\n",
    "    # Create state nodes\n",
    "    for i in range(N):\n",
    "        graph.run(\"CREATE (:State {name: $name, current: 0})\", parameters={\"name\": f\"S{i}\"})\n",
    "\n",
    "    # Create transitions\n",
    "    for i in range(N):\n",
    "        for j in range(N):\n",
    "            probability = float(transition_matrix[i][j])  # Convert numpy.float64 to Python float\n",
    "            if probability > 0:\n",
    "                graph.run(\n",
    "                    \"MATCH (a:State {name: $from_state}), (b:State {name: $to_state}) \"\n",
    "                    \"CREATE (a)-[:TO {probability: $prob}]->(b)\",\n",
    "                    parameters={\n",
    "                        \"from_state\": f\"S{i}\",\n",
    "                        \"to_state\": f\"S{j}\",\n",
    "                        \"prob\": probability\n",
    "                    }\n",
    "                )\n",
    "\n",
    "    print(\"Markov Chain created.\")\n",
    "    print(np.array(transition_matrix))\n"
   ]
  },
  {
   "cell_type": "markdown",
   "metadata": {},
   "source": [
    "## Random Walk Simulation"
   ]
  },
  {
   "cell_type": "code",
   "execution_count": 39,
   "metadata": {},
   "outputs": [],
   "source": [
    "def simulate_random_walk(graph, start_state, steps=10):\n",
    "    current_state = start_state\n",
    "\n",
    "    for step in range(steps):\n",
    "        print(f'Step {step+1}: Current State -> {current_state}')\n",
    "        graph.run(\"MATCH (s:State) SET s.current = 0\")\n",
    "        graph.run(\"MATCH (s:State {name: $state}) SET s.current = 1\", state=current_state)\n",
    "\n",
    "        result = graph.run(\"MATCH (s:State {name: $state})-[r:TO]->(n) RETURN n.name AS next_state, r.probability AS prob\",\n",
    "                         state=current_state).data()\n",
    "\n",
    "        if not result:\n",
    "            print(\"No transitions available. Stopping simulation.\")\n",
    "            break\n",
    "\n",
    "        next_states = [record[\"next_state\"] for record in result]\n",
    "        probabilities = [record[\"prob\"] for record in result]\n",
    "        current_state = random.choices(next_states, probabilities)[0]\n",
    "\n",
    "    print(f'Final State after {steps} steps: {current_state}')"
   ]
  },
  {
   "cell_type": "markdown",
   "metadata": {},
   "source": [
    "## Example: Balanced Random Walk"
   ]
  },
  {
   "cell_type": "code",
   "execution_count": 40,
   "metadata": {},
   "outputs": [
    {
     "data": {
      "text/plain": [
       "array([[0. , 0.5, 0. , 0. , 0. ],\n",
       "       [0.5, 0. , 0.5, 0. , 0. ],\n",
       "       [0. , 0.5, 0. , 0.5, 0. ],\n",
       "       [0. , 0. , 0.5, 0. , 0.5],\n",
       "       [0. , 0. , 0. , 0.5, 0. ]])"
      ]
     },
     "execution_count": 40,
     "metadata": {},
     "output_type": "execute_result"
    }
   ],
   "source": [
    "def balanced_random_walk(N):\n",
    "    matrix = np.zeros((N, N))\n",
    "    for i in range(N):\n",
    "        if i > 0:\n",
    "            matrix[i][i - 1] = 0.5\n",
    "        if i < N - 1:\n",
    "            matrix[i][i + 1] = 0.5\n",
    "    return matrix\n",
    "\n",
    "N = 5\n",
    "balanced_matrix = balanced_random_walk(N)\n",
    "balanced_matrix"
   ]
  },
  {
   "cell_type": "code",
   "execution_count": 42,
   "metadata": {},
   "outputs": [
    {
     "ename": "TypeError",
     "evalue": "Values of type <class 'numpy.float64'> are not supported",
     "output_type": "error",
     "traceback": [
      "\u001b[0;31m---------------------------------------------------------------------------\u001b[0m",
      "\u001b[0;31mTypeError\u001b[0m                                 Traceback (most recent call last)",
      "Cell \u001b[0;32mIn[42], line 1\u001b[0m\n\u001b[0;32m----> 1\u001b[0m \u001b[43mcreate_markov_chain_from_matrix\u001b[49m\u001b[43m(\u001b[49m\u001b[43mgraph\u001b[49m\u001b[43m,\u001b[49m\u001b[43m \u001b[49m\u001b[43mbalanced_matrix\u001b[49m\u001b[43m)\u001b[49m\n",
      "Cell \u001b[0;32mIn[20], line 28\u001b[0m, in \u001b[0;36mcreate_markov_chain_from_matrix\u001b[0;34m(graph, transition_matrix)\u001b[0m\n\u001b[1;32m     26\u001b[0m         probability \u001b[38;5;241m=\u001b[39m transition_matrix[i][j]\n\u001b[1;32m     27\u001b[0m         \u001b[38;5;28;01mif\u001b[39;00m probability \u001b[38;5;241m>\u001b[39m \u001b[38;5;241m0\u001b[39m:  \u001b[38;5;66;03m# Créer seulement les relations valides\u001b[39;00m\n\u001b[0;32m---> 28\u001b[0m             \u001b[43mgraph\u001b[49m\u001b[38;5;241;43m.\u001b[39;49m\u001b[43mrun\u001b[49m\u001b[43m(\u001b[49m\n\u001b[1;32m     29\u001b[0m \u001b[43m                \u001b[49m\u001b[38;5;124;43m\"\u001b[39;49m\u001b[38;5;124;43mMATCH (a:State \u001b[39;49m\u001b[38;5;124;43m{\u001b[39;49m\u001b[38;5;124;43mname: $from_state}), (b:State \u001b[39;49m\u001b[38;5;124;43m{\u001b[39;49m\u001b[38;5;124;43mname: $to_state}) \u001b[39;49m\u001b[38;5;124;43m\"\u001b[39;49m\n\u001b[1;32m     30\u001b[0m \u001b[43m                \u001b[49m\u001b[38;5;124;43m\"\u001b[39;49m\u001b[38;5;124;43mCREATE (a)-[:TO \u001b[39;49m\u001b[38;5;124;43m{\u001b[39;49m\u001b[38;5;124;43mprobability: $prob}]->(b)\u001b[39;49m\u001b[38;5;124;43m\"\u001b[39;49m\u001b[43m,\u001b[49m\n\u001b[1;32m     31\u001b[0m \u001b[43m                \u001b[49m\u001b[43mfrom_state\u001b[49m\u001b[38;5;241;43m=\u001b[39;49m\u001b[38;5;124;43mf\u001b[39;49m\u001b[38;5;124;43m\"\u001b[39;49m\u001b[38;5;124;43mS\u001b[39;49m\u001b[38;5;132;43;01m{\u001b[39;49;00m\u001b[43mi\u001b[49m\u001b[38;5;132;43;01m}\u001b[39;49;00m\u001b[38;5;124;43m\"\u001b[39;49m\u001b[43m,\u001b[49m\u001b[43m \u001b[49m\u001b[43mto_state\u001b[49m\u001b[38;5;241;43m=\u001b[39;49m\u001b[38;5;124;43mf\u001b[39;49m\u001b[38;5;124;43m\"\u001b[39;49m\u001b[38;5;124;43mS\u001b[39;49m\u001b[38;5;132;43;01m{\u001b[39;49;00m\u001b[43mj\u001b[49m\u001b[38;5;132;43;01m}\u001b[39;49;00m\u001b[38;5;124;43m\"\u001b[39;49m\u001b[43m,\u001b[49m\u001b[43m \u001b[49m\u001b[43mprob\u001b[49m\u001b[38;5;241;43m=\u001b[39;49m\u001b[43mprobability\u001b[49m\n\u001b[1;32m     32\u001b[0m \u001b[43m            \u001b[49m\u001b[43m)\u001b[49m\n\u001b[1;32m     34\u001b[0m \u001b[38;5;28mprint\u001b[39m(\u001b[38;5;124mf\u001b[39m\u001b[38;5;124m\"\u001b[39m\u001b[38;5;124mChaîne de Markov avec \u001b[39m\u001b[38;5;132;01m{\u001b[39;00mN\u001b[38;5;132;01m}\u001b[39;00m\u001b[38;5;124m états créée avec `current=0` sur chaque nœud.\u001b[39m\u001b[38;5;124m\"\u001b[39m)\n",
      "File \u001b[0;32m~/Library/Python/3.9/lib/python/site-packages/py2neo/database.py:405\u001b[0m, in \u001b[0;36mGraph.run\u001b[0;34m(self, cypher, parameters, **kwparameters)\u001b[0m\n\u001b[1;32m    395\u001b[0m \u001b[38;5;28;01mdef\u001b[39;00m \u001b[38;5;21mrun\u001b[39m(\u001b[38;5;28mself\u001b[39m, cypher, parameters\u001b[38;5;241m=\u001b[39m\u001b[38;5;28;01mNone\u001b[39;00m, \u001b[38;5;241m*\u001b[39m\u001b[38;5;241m*\u001b[39mkwparameters):\n\u001b[1;32m    396\u001b[0m \u001b[38;5;250m    \u001b[39m\u001b[38;5;124;03m\"\"\" Run a single read/write query within an auto-commit\u001b[39;00m\n\u001b[1;32m    397\u001b[0m \u001b[38;5;124;03m    :class:`~py2neo.Transaction`.\u001b[39;00m\n\u001b[1;32m    398\u001b[0m \n\u001b[0;32m   (...)\u001b[0m\n\u001b[1;32m    403\u001b[0m \u001b[38;5;124;03m    :return:\u001b[39;00m\n\u001b[1;32m    404\u001b[0m \u001b[38;5;124;03m    \"\"\"\u001b[39;00m\n\u001b[0;32m--> 405\u001b[0m     \u001b[38;5;28;01mreturn\u001b[39;00m \u001b[38;5;28;43mself\u001b[39;49m\u001b[38;5;241;43m.\u001b[39;49m\u001b[43mauto\u001b[49m\u001b[43m(\u001b[49m\u001b[43m)\u001b[49m\u001b[38;5;241;43m.\u001b[39;49m\u001b[43mrun\u001b[49m\u001b[43m(\u001b[49m\u001b[43mcypher\u001b[49m\u001b[43m,\u001b[49m\u001b[43m \u001b[49m\u001b[43mparameters\u001b[49m\u001b[43m,\u001b[49m\u001b[43m \u001b[49m\u001b[38;5;241;43m*\u001b[39;49m\u001b[38;5;241;43m*\u001b[39;49m\u001b[43mkwparameters\u001b[49m\u001b[43m)\u001b[49m\n",
      "File \u001b[0;32m~/Library/Python/3.9/lib/python/site-packages/py2neo/database.py:989\u001b[0m, in \u001b[0;36mTransaction.run\u001b[0;34m(self, cypher, parameters, **kwparameters)\u001b[0m\n\u001b[1;32m    987\u001b[0m     result \u001b[38;5;241m=\u001b[39m \u001b[38;5;28mself\u001b[39m\u001b[38;5;241m.\u001b[39m_connector\u001b[38;5;241m.\u001b[39mrun(\u001b[38;5;28mself\u001b[39m\u001b[38;5;241m.\u001b[39mref, cypher, parameters)\n\u001b[1;32m    988\u001b[0m \u001b[38;5;28;01melse\u001b[39;00m:\n\u001b[0;32m--> 989\u001b[0m     result \u001b[38;5;241m=\u001b[39m \u001b[38;5;28;43mself\u001b[39;49m\u001b[38;5;241;43m.\u001b[39;49m\u001b[43m_connector\u001b[49m\u001b[38;5;241;43m.\u001b[39;49m\u001b[43mauto_run\u001b[49m\u001b[43m(\u001b[49m\u001b[43mcypher\u001b[49m\u001b[43m,\u001b[49m\u001b[43m \u001b[49m\u001b[43mparameters\u001b[49m\u001b[43m,\u001b[49m\n\u001b[1;32m    990\u001b[0m \u001b[43m                                      \u001b[49m\u001b[43mgraph_name\u001b[49m\u001b[38;5;241;43m=\u001b[39;49m\u001b[38;5;28;43mself\u001b[39;49m\u001b[38;5;241;43m.\u001b[39;49m\u001b[43mgraph\u001b[49m\u001b[38;5;241;43m.\u001b[39;49m\u001b[43mname\u001b[49m\u001b[43m,\u001b[49m\n\u001b[1;32m    991\u001b[0m \u001b[43m                                      \u001b[49m\u001b[43mreadonly\u001b[49m\u001b[38;5;241;43m=\u001b[39;49m\u001b[38;5;28;43mself\u001b[39;49m\u001b[38;5;241;43m.\u001b[39;49m\u001b[43mreadonly\u001b[49m\u001b[43m)\u001b[49m\n\u001b[1;32m    992\u001b[0m \u001b[38;5;28mself\u001b[39m\u001b[38;5;241m.\u001b[39m_connector\u001b[38;5;241m.\u001b[39mpull(result, \u001b[38;5;241m-\u001b[39m\u001b[38;5;241m1\u001b[39m)\n\u001b[1;32m    993\u001b[0m \u001b[38;5;28;01mreturn\u001b[39;00m Cursor(result, hydrant)\n",
      "File \u001b[0;32m~/Library/Python/3.9/lib/python/site-packages/py2neo/client/__init__.py:1340\u001b[0m, in \u001b[0;36mConnector.auto_run\u001b[0;34m(self, cypher, parameters, graph_name, readonly)\u001b[0m\n\u001b[1;32m   1338\u001b[0m cx \u001b[38;5;241m=\u001b[39m \u001b[38;5;28mself\u001b[39m\u001b[38;5;241m.\u001b[39m_acquire(graph_name)\n\u001b[1;32m   1339\u001b[0m \u001b[38;5;28;01mtry\u001b[39;00m:\n\u001b[0;32m-> 1340\u001b[0m     \u001b[38;5;28;01mreturn\u001b[39;00m \u001b[43mcx\u001b[49m\u001b[38;5;241;43m.\u001b[39;49m\u001b[43mauto_run\u001b[49m\u001b[43m(\u001b[49m\u001b[43mcypher\u001b[49m\u001b[43m,\u001b[49m\u001b[43m \u001b[49m\u001b[43mparameters\u001b[49m\u001b[43m,\u001b[49m\u001b[43m \u001b[49m\u001b[43mgraph_name\u001b[49m\u001b[38;5;241;43m=\u001b[39;49m\u001b[43mgraph_name\u001b[49m\u001b[43m,\u001b[49m\u001b[43m \u001b[49m\u001b[43mreadonly\u001b[49m\u001b[38;5;241;43m=\u001b[39;49m\u001b[43mreadonly\u001b[49m\u001b[43m)\u001b[49m\n\u001b[1;32m   1341\u001b[0m \u001b[38;5;28;01mexcept\u001b[39;00m (ConnectionUnavailable, ConnectionBroken):\n\u001b[1;32m   1342\u001b[0m     \u001b[38;5;28mself\u001b[39m\u001b[38;5;241m.\u001b[39mprune(cx\u001b[38;5;241m.\u001b[39mprofile)\n",
      "File \u001b[0;32m~/Library/Python/3.9/lib/python/site-packages/py2neo/client/bolt.py:885\u001b[0m, in \u001b[0;36mBolt3.auto_run\u001b[0;34m(self, cypher, parameters, graph_name, readonly)\u001b[0m\n\u001b[1;32m    881\u001b[0m \u001b[38;5;28mself\u001b[39m\u001b[38;5;241m.\u001b[39m_assert_no_transaction()\n\u001b[1;32m    882\u001b[0m \u001b[38;5;28mself\u001b[39m\u001b[38;5;241m.\u001b[39m_transaction \u001b[38;5;241m=\u001b[39m BoltTransactionRef(\u001b[38;5;28mself\u001b[39m, graph_name, readonly,\n\u001b[1;32m    883\u001b[0m                                        \u001b[38;5;66;03m# after, metadata, timeout\u001b[39;00m\n\u001b[1;32m    884\u001b[0m                                        )\n\u001b[0;32m--> 885\u001b[0m \u001b[38;5;28;01mreturn\u001b[39;00m \u001b[38;5;28;43mself\u001b[39;49m\u001b[38;5;241;43m.\u001b[39;49m\u001b[43m_run\u001b[49m\u001b[43m(\u001b[49m\u001b[43mgraph_name\u001b[49m\u001b[43m,\u001b[49m\u001b[43m \u001b[49m\u001b[43mcypher\u001b[49m\u001b[43m,\u001b[49m\u001b[43m \u001b[49m\u001b[43mparameters\u001b[49m\u001b[43m \u001b[49m\u001b[38;5;129;43;01mor\u001b[39;49;00m\u001b[43m \u001b[49m\u001b[43m{\u001b[49m\u001b[43m}\u001b[49m\u001b[43m,\u001b[49m\n\u001b[1;32m    886\u001b[0m \u001b[43m                   \u001b[49m\u001b[38;5;28;43mself\u001b[39;49m\u001b[38;5;241;43m.\u001b[39;49m\u001b[43m_transaction\u001b[49m\u001b[38;5;241;43m.\u001b[39;49m\u001b[43mextra\u001b[49m\u001b[43m,\u001b[49m\u001b[43m \u001b[49m\u001b[43mfinal\u001b[49m\u001b[38;5;241;43m=\u001b[39;49m\u001b[38;5;28;43;01mTrue\u001b[39;49;00m\u001b[43m)\u001b[49m\n",
      "File \u001b[0;32m~/Library/Python/3.9/lib/python/site-packages/py2neo/client/bolt.py:947\u001b[0m, in \u001b[0;36mBolt3._run\u001b[0;34m(self, graph_name, cypher, parameters, extra, final)\u001b[0m\n\u001b[1;32m    946\u001b[0m \u001b[38;5;28;01mdef\u001b[39;00m \u001b[38;5;21m_run\u001b[39m(\u001b[38;5;28mself\u001b[39m, graph_name, cypher, parameters, extra\u001b[38;5;241m=\u001b[39m\u001b[38;5;28;01mNone\u001b[39;00m, final\u001b[38;5;241m=\u001b[39m\u001b[38;5;28;01mFalse\u001b[39;00m):\n\u001b[0;32m--> 947\u001b[0m     response \u001b[38;5;241m=\u001b[39m \u001b[38;5;28;43mself\u001b[39;49m\u001b[38;5;241;43m.\u001b[39;49m\u001b[43mappend_message\u001b[49m\u001b[43m(\u001b[49m\u001b[38;5;241;43m0x10\u001b[39;49m\u001b[43m,\u001b[49m\u001b[43m \u001b[49m\u001b[43mcypher\u001b[49m\u001b[43m,\u001b[49m\u001b[43m \u001b[49m\u001b[43mparameters\u001b[49m\u001b[43m,\u001b[49m\u001b[43m \u001b[49m\u001b[43mextra\u001b[49m\u001b[43m \u001b[49m\u001b[38;5;129;43;01mor\u001b[39;49;00m\u001b[43m \u001b[49m\u001b[43m{\u001b[49m\u001b[43m}\u001b[49m\u001b[43m)\u001b[49m\n\u001b[1;32m    948\u001b[0m     result \u001b[38;5;241m=\u001b[39m BoltResult(\u001b[38;5;28mself\u001b[39m\u001b[38;5;241m.\u001b[39m_transaction, \u001b[38;5;28mself\u001b[39m, response)\n\u001b[1;32m    949\u001b[0m     \u001b[38;5;28mself\u001b[39m\u001b[38;5;241m.\u001b[39m_transaction\u001b[38;5;241m.\u001b[39mappend(result, final\u001b[38;5;241m=\u001b[39mfinal)\n",
      "File \u001b[0;32m~/Library/Python/3.9/lib/python/site-packages/py2neo/client/bolt.py:750\u001b[0m, in \u001b[0;36mBolt1.append_message\u001b[0;34m(self, tag, *fields, **kwargs)\u001b[0m\n\u001b[1;32m    748\u001b[0m \u001b[38;5;28;01mif\u001b[39;00m vital \u001b[38;5;129;01mis\u001b[39;00m \u001b[38;5;28;01mNone\u001b[39;00m:\n\u001b[1;32m    749\u001b[0m     vital \u001b[38;5;241m=\u001b[39m \u001b[38;5;28;01mFalse\u001b[39;00m\n\u001b[0;32m--> 750\u001b[0m \u001b[38;5;28;43mself\u001b[39;49m\u001b[38;5;241;43m.\u001b[39;49m\u001b[43mwrite_message\u001b[49m\u001b[43m(\u001b[49m\u001b[43mtag\u001b[49m\u001b[43m,\u001b[49m\u001b[43m \u001b[49m\u001b[43mfields\u001b[49m\u001b[43m)\u001b[49m\n\u001b[1;32m    751\u001b[0m response \u001b[38;5;241m=\u001b[39m BoltResponse(capacity\u001b[38;5;241m=\u001b[39mcapacity, vital\u001b[38;5;241m=\u001b[39mvital)\n\u001b[1;32m    752\u001b[0m \u001b[38;5;28mself\u001b[39m\u001b[38;5;241m.\u001b[39m_responses\u001b[38;5;241m.\u001b[39mappend(response)\n",
      "File \u001b[0;32m~/Library/Python/3.9/lib/python/site-packages/py2neo/client/bolt.py:725\u001b[0m, in \u001b[0;36mBolt1.write_message\u001b[0;34m(self, tag, fields)\u001b[0m\n\u001b[1;32m    723\u001b[0m     \u001b[38;5;28mself\u001b[39m\u001b[38;5;241m.\u001b[39m_log_message(\u001b[38;5;28mself\u001b[39m\u001b[38;5;241m.\u001b[39mlocal_port, tag, preview)\n\u001b[1;32m    724\u001b[0m \u001b[38;5;28;01melse\u001b[39;00m:\n\u001b[0;32m--> 725\u001b[0m     \u001b[38;5;28;43mself\u001b[39;49m\u001b[38;5;241;43m.\u001b[39;49m\u001b[43m_writer\u001b[49m\u001b[38;5;241;43m.\u001b[39;49m\u001b[43mwrite_message\u001b[49m\u001b[43m(\u001b[49m\u001b[43mtag\u001b[49m\u001b[43m,\u001b[49m\u001b[43m \u001b[49m\u001b[43mfields\u001b[49m\u001b[43m)\u001b[49m\n\u001b[1;32m    726\u001b[0m     \u001b[38;5;28mself\u001b[39m\u001b[38;5;241m.\u001b[39m_log_message(\u001b[38;5;28mself\u001b[39m\u001b[38;5;241m.\u001b[39mlocal_port, tag, fields)\n",
      "File \u001b[0;32m~/Library/Python/3.9/lib/python/site-packages/py2neo/client/bolt.py:264\u001b[0m, in \u001b[0;36mBoltMessageWriter.write_message\u001b[0;34m(self, tag, fields)\u001b[0m\n\u001b[1;32m    262\u001b[0m packer \u001b[38;5;241m=\u001b[39m Packer(buffer, version\u001b[38;5;241m=\u001b[39m\u001b[38;5;28mself\u001b[39m\u001b[38;5;241m.\u001b[39mprotocol_version)\n\u001b[1;32m    263\u001b[0m \u001b[38;5;28;01mfor\u001b[39;00m field \u001b[38;5;129;01min\u001b[39;00m fields:\n\u001b[0;32m--> 264\u001b[0m     \u001b[43mpacker\u001b[49m\u001b[38;5;241;43m.\u001b[39;49m\u001b[43mpack\u001b[49m\u001b[43m(\u001b[49m\u001b[43mfield\u001b[49m\u001b[43m)\u001b[49m\n\u001b[1;32m    265\u001b[0m buffer\u001b[38;5;241m.\u001b[39mtruncate()\n\u001b[1;32m    266\u001b[0m buffer\u001b[38;5;241m.\u001b[39mseek(\u001b[38;5;241m0\u001b[39m)\n",
      "File \u001b[0;32m~/Library/Python/3.9/lib/python/site-packages/interchange/packstream.py:151\u001b[0m, in \u001b[0;36mPacker.pack\u001b[0;34m(self, value)\u001b[0m\n\u001b[1;32m    149\u001b[0m \u001b[38;5;66;03m# Dictionary\u001b[39;00m\n\u001b[1;32m    150\u001b[0m \u001b[38;5;28;01melif\u001b[39;00m t \u001b[38;5;129;01mis\u001b[39;00m \u001b[38;5;28mdict\u001b[39m \u001b[38;5;129;01mor\u001b[39;00m t \u001b[38;5;129;01mis\u001b[39;00m OrderedDict \u001b[38;5;129;01mor\u001b[39;00m \u001b[38;5;28misinstance\u001b[39m(value, \u001b[38;5;28mself\u001b[39m\u001b[38;5;241m.\u001b[39mdict_type):\n\u001b[0;32m--> 151\u001b[0m     \u001b[38;5;28;43mself\u001b[39;49m\u001b[38;5;241;43m.\u001b[39;49m\u001b[43m_pack_dict\u001b[49m\u001b[43m(\u001b[49m\u001b[43mvalue\u001b[49m\u001b[43m)\u001b[49m\n\u001b[1;32m    153\u001b[0m \u001b[38;5;66;03m# Bolt 2 introduced temporal and spatial types\u001b[39;00m\n\u001b[1;32m    154\u001b[0m \u001b[38;5;28;01melif\u001b[39;00m \u001b[38;5;28mself\u001b[39m\u001b[38;5;241m.\u001b[39mversion \u001b[38;5;241m<\u001b[39m (\u001b[38;5;241m2\u001b[39m, \u001b[38;5;241m0\u001b[39m):\n",
      "File \u001b[0;32m~/Library/Python/3.9/lib/python/site-packages/interchange/packstream.py:285\u001b[0m, in \u001b[0;36mPacker._pack_dict\u001b[0;34m(self, value)\u001b[0m\n\u001b[1;32m    282\u001b[0m \u001b[38;5;28;01melse\u001b[39;00m:\n\u001b[1;32m    283\u001b[0m     \u001b[38;5;28;01mraise\u001b[39;00m \u001b[38;5;167;01mTypeError\u001b[39;00m(\u001b[38;5;124m\"\u001b[39m\u001b[38;5;124mDictionary keys must be \u001b[39m\u001b[38;5;124m\"\u001b[39m\n\u001b[1;32m    284\u001b[0m                     \u001b[38;5;124m\"\u001b[39m\u001b[38;5;124mof type \u001b[39m\u001b[38;5;132;01m%r\u001b[39;00m\u001b[38;5;124m or bytes\u001b[39m\u001b[38;5;124m\"\u001b[39m \u001b[38;5;241m%\u001b[39m \u001b[38;5;28mself\u001b[39m\u001b[38;5;241m.\u001b[39mtext_type)\n\u001b[0;32m--> 285\u001b[0m \u001b[38;5;28;43mself\u001b[39;49m\u001b[38;5;241;43m.\u001b[39;49m\u001b[43mpack\u001b[49m\u001b[43m(\u001b[49m\u001b[43mitem\u001b[49m\u001b[43m)\u001b[49m\n",
      "File \u001b[0;32m~/Library/Python/3.9/lib/python/site-packages/interchange/packstream.py:200\u001b[0m, in \u001b[0;36mPacker.pack\u001b[0;34m(self, value)\u001b[0m\n\u001b[1;32m    196\u001b[0m     \u001b[38;5;28mself\u001b[39m\u001b[38;5;241m.\u001b[39m_pack_point(value)\n\u001b[1;32m    198\u001b[0m \u001b[38;5;66;03m# Other\u001b[39;00m\n\u001b[1;32m    199\u001b[0m \u001b[38;5;28;01melse\u001b[39;00m:\n\u001b[0;32m--> 200\u001b[0m     \u001b[38;5;28;01mraise\u001b[39;00m \u001b[38;5;167;01mTypeError\u001b[39;00m(\u001b[38;5;124m\"\u001b[39m\u001b[38;5;124mValues of type \u001b[39m\u001b[38;5;132;01m%s\u001b[39;00m\u001b[38;5;124m are not supported\u001b[39m\u001b[38;5;124m\"\u001b[39m \u001b[38;5;241m%\u001b[39m \u001b[38;5;28mtype\u001b[39m(value))\n",
      "\u001b[0;31mTypeError\u001b[0m: Values of type <class 'numpy.float64'> are not supported"
     ]
    }
   ],
   "source": [
    "create_markov_chain_from_matrix(graph, balanced_matrix)"
   ]
  },
  {
   "cell_type": "code",
   "execution_count": null,
   "metadata": {},
   "outputs": [],
   "source": []
  }
 ],
 "metadata": {
  "kernelspec": {
   "display_name": "Python 3",
   "language": "python",
   "name": "python3"
  },
  "language_info": {
   "codemirror_mode": {
    "name": "ipython",
    "version": 3
   },
   "file_extension": ".py",
   "mimetype": "text/x-python",
   "name": "python",
   "nbconvert_exporter": "python",
   "pygments_lexer": "ipython3",
   "version": "3.9.6"
  }
 },
 "nbformat": 4,
 "nbformat_minor": 4
}
