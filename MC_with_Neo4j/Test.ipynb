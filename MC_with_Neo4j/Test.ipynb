{
    "cells": [
        {
            "cell_type": "markdown",
            "metadata": {},
            "source": [
                "# Hidden Markov Model (HMM) Implementation in Neo4j\n",
                "\n",
                "This notebook implements a Hidden Markov Model (HMM) using Neo4j, according to Definition 2.1."
            ]
        },
        {
            "cell_type": "code",
            "execution_count": 1,
            "metadata": {},
            "outputs": [],
            "source": [
                "from py2neo import Graph\n",
                "import numpy as np\n",
                "import random\n",
                "\n",
                "# Connect to Neo4j\n",
                "graph = Graph(\"bolt://localhost:7687\", auth=(\"neo4j\", \"password\"))\n"
            ]
        },
        {
            "cell_type": "markdown",
            "metadata": {},
            "source": [
                "## Hidden Markov Model Class"
            ]
        },
        {
            "cell_type": "code",
            "execution_count": 2,
            "metadata": {},
            "outputs": [],
            "source": [
                "class HiddenMarkovModel:\n",
                "    def __init__(self, graph, hidden_states, observable_states, transition_matrix, emission_matrix, initial_distribution):\n",
                "        self.graph = graph\n",
                "        self.hidden_states = hidden_states\n",
                "        self.observable_states = observable_states\n",
                "        self.transition_matrix = np.array(transition_matrix)\n",
                "        self.emission_matrix = np.array(emission_matrix)\n",
                "        self.initial_distribution = np.array(initial_distribution)\n",
                "\n",
                "    def create_hmm(self):\n",
                "        N = len(self.hidden_states)\n",
                "        M = len(self.observable_states)\n",
                "        \n",
                "        # Clear existing data\n",
                "        self.graph.run(\"MATCH (n) DETACH DELETE n\")\n",
                "\n",
                "        # Create hidden states\n",
                "        for i in range(N):\n",
                "            self.graph.run(\"CREATE (:HiddenState {name: $name, initial_prob: $prob})\",\n",
                "                             parameters={\"name\": self.hidden_states[i], \"prob\": float(self.initial_distribution[i])})\n",
                "\n",
                "        # Create observable states\n",
                "        for j in range(M):\n",
                "            self.graph.run(\"CREATE (:ObservableState {name: $name})\",\n",
                "                             parameters={\"name\": self.observable_states[j]})\n",
                "\n",
                "        # Create transitions\n",
                "        for i in range(N):\n",
                "            for j in range(N):\n",
                "                prob = float(self.transition_matrix[i][j])\n",
                "                if prob > 0:\n",
                "                    self.graph.run(\"MATCH (a:HiddenState {name: $from}), (b:HiddenState {name: $to}) \n",
                "                                     CREATE (a)-[:TRANSITION {probability: $prob}]->(b)\",\n                "                                     parameters={\"from\": self.hidden_states[i], \"to\": self.hidden_states[j], \"prob\": prob})\n",
                "        \n",
                "        # Create emissions\n",
                "        for i in range(N):\n",
                "            for j in range(M):\n",
                "                prob = float(self.emission_matrix[i][j])\n",
                "                if prob > 0:\n",
                "                    self.graph.run(\"MATCH (h:HiddenState {name: $from}), (o:ObservableState {name: $to}) \n",
                "                                     CREATE (h)-[:EMITS {probability: $prob}]->(o)\",\n                "                                     parameters={\"from\": self.hidden_states[i], \"to\": self.observable_states[j], \"prob\": prob})\n",
                "        print(\"HMM created in Neo4j.\")\n"
            ]
        },
        {
            "cell_type": "markdown",
            "metadata": {},
            "source": [
                "## Example: Creating an HMM in Neo4j"
            ]
        },
        {
            "cell_type": "code",
            "execution_count": 3,
            "metadata": {},
            "outputs": [],
            "source": [
                "# Define HMM parameters\n",
                "hidden_states = ['S1', 'S2', 'S3']\n",
                "observable_states = ['O1', 'O2']\n",
                "transition_matrix = [[0.7, 0.2, 0.1],\n",
                "                     [0.3, 0.5, 0.2],\n",
                "                     [0.1, 0.3, 0.6]]\n",
                "emission_matrix = [[0.6, 0.4],\n",
                "                   [0.5, 0.5],\n",
                "                   [0.4, 0.6]]\n",
                "initial_distribution = [0.5, 0.3, 0.2]\n",
                "\n",
                "# Create and load the HMM into Neo4j\n",
                "hmm = HiddenMarkovModel(graph, hidden_states, observable_states, transition_matrix, emission_matrix, initial_distribution)\n",
                "hmm.create_hmm()\n"
            ]
        }
    ],
    "metadata": {
        "kernelspec": {
            "display_name": "Python 3",
            "language": "python",
            "name": "python3"
        },
        "language_info": {
            "name": "python",
            "version": "3.8"
        }
    },
    "nbformat": 4,
    "nbformat_minor": 4
}
