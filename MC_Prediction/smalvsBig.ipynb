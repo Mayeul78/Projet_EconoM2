{
    "cells": [
     {
      "cell_type": "markdown",
      "metadata": {},
      "source": [
       "# HMM Model Comparison: Small vs Large Models\n",
       "\n",
       "This Jupyter Notebook compares a Hidden Markov Model (HMM) with a small number of hidden states (2) versus a large number (100) to analyze BNP Paribas stock price movements."
      ]
     },
     {
      "cell_type": "code",
      "execution_count": null,
      "metadata": {},
      "outputs": [],
      "source": [
       "import numpy as np\n",
       "import pandas as pd\n",
       "from hmmlearn import hmm\n",
       "import matplotlib.pyplot as plt\n",
       "\n",
       "# Load and preprocess BNP Paribas stock data\n",
       "data_bnp = pd.read_csv('../data/BNPPA.csv')\n",
       "data_bnp['Date'] = pd.to_datetime(data_bnp['Date'])\n",
       "data_bnp.sort_values('Date', inplace=True)\n",
       "data_bnp = data_bnp[data_bnp['Close'] > 0]  # Remove invalid prices\n",
       "data_bnp['LogRet'] = np.log(data_bnp['Close']).diff()\n",
       "data_bnp.dropna(subset=['LogRet'], inplace=True)\n",
       "\n",
       "# Convert log returns into the format required for HMM\n",
       "observations = data_bnp['LogRet'].values.reshape(-1, 1)\n"
      ]
     },
     {
      "cell_type": "markdown",
      "metadata": {},
      "source": [
       "## Define and Train HMM Models"
      ]
     },
     {
      "cell_type": "code",
      "execution_count": null,
      "metadata": {},
      "outputs": [],
      "source": [
       "def train_hmm(n_components):\n",
       "    model = hmm.GaussianHMM(n_components=n_components, covariance_type='full', n_iter=100, random_state=42)\n",
       "    model.fit(observations)\n",
       "    return model\n",
       "\n",
       "# Train a small HMM (2 states) and a large HMM (100 states)\n",
       "hmm_small = train_hmm(2)\n",
       "hmm_large = train_hmm(100)\n"
      ]
     },
     {
      "cell_type": "markdown",
      "metadata": {},
      "source": [
       "## Compare Log-Likelihood of Models"
      ]
     },
     {
      "cell_type": "code",
      "execution_count": null,
      "metadata": {},
      "outputs": [],
      "source": [
       "log_likelihood_small = hmm_small.score(observations)\n",
       "log_likelihood_large = hmm_large.score(observations)\n",
       "\n",
       "print(f'Log-Likelihood (2 states): {log_likelihood_small}')\n",
       "print(f'Log-Likelihood (100 states): {log_likelihood_large}')"
      ]
     },
     {
      "cell_type": "markdown",
      "metadata": {},
      "source": [
       "## Visualize Hidden States"
      ]
     },
     {
      "cell_type": "code",
      "execution_count": null,
      "metadata": {},
      "outputs": [],
      "source": [
       "hidden_states_small = hmm_small.predict(observations)\n",
       "hidden_states_large = hmm_large.predict(observations)\n",
       "\n",
       "plt.figure(figsize=(10, 4))\n",
       "plt.plot(hidden_states_small, label='2 States', linestyle='--')\n",
       "plt.plot(hidden_states_large, label='100 States', alpha=0.5)\n",
       "plt.title('Hidden States Comparison')\n",
       "plt.legend()\n",
       "plt.show()"
      ]
     }
    ],
    "metadata": {
     "kernelspec": {
      "display_name": "Python 3",
      "language": "python",
      "name": "python3"
     },
     "language_info": {
      "codemirror_mode": {
       "name": "ipython",
       "version": 3
      },
      "file_extension": ".py",
      "mimetype": "text/x-python",
      "name": "python",
      "nbconvert_exporter": "python",
      "pygments_lexer": "ipython3",
      "version": "3.8.10"
     }
    },
    "nbformat": 4,
    "nbformat_minor": 4
   }
   