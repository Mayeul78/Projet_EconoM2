{
 "cells": [
  {
   "cell_type": "code",
   "execution_count": 3,
   "metadata": {},
   "outputs": [
    {
     "name": "stdout",
     "output_type": "stream",
     "text": [
      "Defaulting to user installation because normal site-packages is not writeable\n",
      "Collecting py2neo\n",
      "  Downloading py2neo-2021.2.4-py2.py3-none-any.whl.metadata (9.9 kB)\n",
      "Requirement already satisfied: certifi in /Users/mayeulboucher/Library/Python/3.9/lib/python/site-packages (from py2neo) (2024.2.2)\n",
      "Collecting interchange~=2021.0.4 (from py2neo)\n",
      "  Downloading interchange-2021.0.4-py2.py3-none-any.whl.metadata (1.9 kB)\n",
      "Requirement already satisfied: monotonic in /Users/mayeulboucher/Library/Python/3.9/lib/python/site-packages (from py2neo) (1.6)\n",
      "Requirement already satisfied: packaging in /Users/mayeulboucher/Library/Python/3.9/lib/python/site-packages (from py2neo) (23.2)\n",
      "Collecting pansi>=2020.7.3 (from py2neo)\n",
      "  Downloading pansi-2024.11.0-py2.py3-none-any.whl.metadata (3.1 kB)\n",
      "Requirement already satisfied: pygments>=2.0.0 in /Users/mayeulboucher/Library/Python/3.9/lib/python/site-packages (from py2neo) (2.17.2)\n",
      "Requirement already satisfied: six>=1.15.0 in /Applications/Xcode.app/Contents/Developer/Library/Frameworks/Python3.framework/Versions/3.9/lib/python3.9/site-packages (from py2neo) (1.15.0)\n",
      "Requirement already satisfied: urllib3 in /Users/mayeulboucher/Library/Python/3.9/lib/python/site-packages (from py2neo) (1.26.18)\n",
      "Requirement already satisfied: pytz in /Users/mayeulboucher/Library/Python/3.9/lib/python/site-packages (from interchange~=2021.0.4->py2neo) (2024.1)\n",
      "Requirement already satisfied: pillow in /Users/mayeulboucher/Library/Python/3.9/lib/python/site-packages (from pansi>=2020.7.3->py2neo) (10.3.0)\n",
      "Downloading py2neo-2021.2.4-py2.py3-none-any.whl (177 kB)\n",
      "\u001b[2K   \u001b[90m━━━━━━━━━━━━━━━━━━━━━━━━━━━━━━━━━━━━━━━━\u001b[0m \u001b[32m177.2/177.2 kB\u001b[0m \u001b[31m2.8 MB/s\u001b[0m eta \u001b[36m0:00:00\u001b[0m \u001b[36m0:00:01\u001b[0m\n",
      "\u001b[?25hDownloading interchange-2021.0.4-py2.py3-none-any.whl (28 kB)\n",
      "Downloading pansi-2024.11.0-py2.py3-none-any.whl (26 kB)\n",
      "Installing collected packages: pansi, interchange, py2neo\n",
      "Successfully installed interchange-2021.0.4 pansi-2024.11.0 py2neo-2021.2.4\n",
      "\n",
      "\u001b[1m[\u001b[0m\u001b[34;49mnotice\u001b[0m\u001b[1;39;49m]\u001b[0m\u001b[39;49m A new release of pip is available: \u001b[0m\u001b[31;49m24.0\u001b[0m\u001b[39;49m -> \u001b[0m\u001b[32;49m25.0.1\u001b[0m\n",
      "\u001b[1m[\u001b[0m\u001b[34;49mnotice\u001b[0m\u001b[1;39;49m]\u001b[0m\u001b[39;49m To update, run: \u001b[0m\u001b[32;49m/Applications/Xcode.app/Contents/Developer/usr/bin/python3 -m pip install --upgrade pip\u001b[0m\n",
      "Note: you may need to restart the kernel to use updated packages.\n"
     ]
    }
   ],
   "source": [
    "%pip install py2neo"
   ]
  },
  {
   "cell_type": "code",
   "execution_count": 5,
   "metadata": {},
   "outputs": [
    {
     "data": {
      "text/html": [
       "(No data)"
      ],
      "text/plain": [
       "(No data)"
      ]
     },
     "execution_count": 5,
     "metadata": {},
     "output_type": "execute_result"
    }
   ],
   "source": [
    "from py2neo import Graph\n",
    "\n",
    "# Connect to Neo4j\n",
    "graph = Graph(\"bolt://localhost:7687\", auth=(\"neo4j\", \"password\"))\n",
    "\n",
    "# Create a node\n",
    "graph.run(\"CREATE (:State {name:'A'})\")"
   ]
  },
  {
   "cell_type": "code",
   "execution_count": null,
   "metadata": {},
   "outputs": [
    {
     "name": "stdout",
     "output_type": "stream",
     "text": [
      "Chaîne de Markov avec 4 états créée avec `current=0` sur chaque nœud.\n"
     ]
    }
   ],
   "source": [
    "from py2neo import Graph\n",
    "\n",
    "def create_markov_chain_from_matrix(graph, transition_matrix):\n",
    "    \"\"\"\n",
    "    Crée une chaîne de Markov dans Neo4j à partir d'une matrice de transition N×N.\n",
    "    \n",
    "    - Chaque état est un nœud `(:State {name: \"S0\", current: 0})`\n",
    "    - Les transitions sont des relations `(:State)-[:TO {probability: X}]->(:State)`\n",
    "    - Seules les transitions avec `probability > 0` sont ajoutées\n",
    "    \n",
    "    Paramètres:\n",
    "    graph: Instance py2neo.Graph (connectée à Neo4j)\n",
    "    transition_matrix: Liste de listes (matrice NxN avec probabilités)\n",
    "    \"\"\"\n",
    "    \n",
    "    N = len(transition_matrix)  # Taille de la matrice (NxN)\n",
    "    \n",
    "    # Nettoyer les données existantes\n",
    "    graph.run(\"MATCH (n) DETACH DELETE n\")\n",
    "\n",
    "    # Créer les nœuds d'état avec `current=0`\n",
    "    for i in range(N):\n",
    "        graph.run(\"CREATE (:State {name: $name, current: 0})\", name=f\"S{i}\")\n",
    "\n",
    "    # Créer les transitions basées sur la matrice\n",
    "    for i in range(N):\n",
    "        for j in range(N):\n",
    "            probability = transition_matrix[i][j]\n",
    "            if probability > 0:  # Créer seulement les relations valides\n",
    "                graph.run(\n",
    "                    \"MATCH (a:State {name: $from_state}), (b:State {name: $to_state}) \"\n",
    "                    \"CREATE (a)-[:TO {probability: $prob}]->(b)\",\n",
    "                    from_state=f\"S{i}\", to_state=f\"S{j}\", prob=probability\n",
    "                )\n",
    "\n",
    "    print(f\"Chaîne de Markov avec {N} états créée avec `current=0` sur chaque nœud.\")\n",
    "\n",
    "# Connexion à Neo4j\n",
    "graph = Graph(\"bolt://localhost:7687\", auth=(\"neo4j\", \"password\"))\n",
    "\n",
    "\n"
   ]
  },
  {
   "cell_type": "code",
   "execution_count": 15,
   "metadata": {},
   "outputs": [
    {
     "name": "stdout",
     "output_type": "stream",
     "text": [
      "Chaîne de Markov avec 4 états créée avec `current=0` sur chaque nœud.\n"
     ]
    }
   ],
   "source": [
    "# Exemple de matrice de transition (4x4)\n",
    "transition_matrix = [\n",
    "    [0.0, 0.5, 0.5, 0.0],  # S0 -> S1 (0.5), S2 (0.5)\n",
    "    [0.3, 0.0, 0.7, 0.0],  # S1 -> S0 (0.3), S2 (0.7)\n",
    "    [0.4, 0.4, 0.0, 0.2],  # S2 -> S0 (0.4), S1 (0.4), S3 (0.2)\n",
    "    [0.2, 0.3, 0.5, 0.0]   # S3 -> S0 (0.2), S1 (0.3), S2 (0.5)\n",
    "]\n",
    "\n",
    "# Créer la chaîne de Markov avec `current=0`\n",
    "create_markov_chain_from_matrix(graph, transition_matrix)"
   ]
  },
  {
   "cell_type": "code",
   "execution_count": 16,
   "metadata": {},
   "outputs": [
    {
     "name": "stdout",
     "output_type": "stream",
     "text": [
      "Le nœud S2 a été défini avec `current=1`.\n"
     ]
    }
   ],
   "source": [
    "from py2neo import Graph\n",
    "\n",
    "def define_current(graph, node_name):\n",
    "    \"\"\"\n",
    "    Met à jour l'état `current` dans Neo4j.\n",
    "    \n",
    "    - Met `current=0` sur tous les nœuds\n",
    "    - Met `current=1` sur le nœud spécifié\n",
    "    \n",
    "    Paramètres:\n",
    "    graph: Instance py2neo.Graph (connectée à Neo4j)\n",
    "    node_name: Nom du nœud à activer (ex: \"S0\")\n",
    "    \"\"\"\n",
    "    \n",
    "    # Met `current=0` partout\n",
    "    graph.run(\"MATCH (s:State) SET s.current = 0\")\n",
    "\n",
    "    # Met `current=1` sur le nœud spécifié\n",
    "    graph.run(\"MATCH (s:State {name: $node_name}) SET s.current = 1\", node_name=node_name)\n",
    "\n",
    "    print(f\"Le nœud {node_name} a été défini avec `current=1`.\")\n",
    "\n",
    "\n",
    "\n",
    "# Exemple: Définir `current=1` sur S2\n",
    "define_current(graph, \"S2\")\n"
   ]
  },
  {
   "cell_type": "markdown",
   "metadata": {},
   "source": []
  }
 ],
 "metadata": {
  "kernelspec": {
   "display_name": "Python 3",
   "language": "python",
   "name": "python3"
  },
  "language_info": {
   "codemirror_mode": {
    "name": "ipython",
    "version": 3
   },
   "file_extension": ".py",
   "mimetype": "text/x-python",
   "name": "python",
   "nbconvert_exporter": "python",
   "pygments_lexer": "ipython3",
   "version": "3.9.6"
  }
 },
 "nbformat": 4,
 "nbformat_minor": 2
}
